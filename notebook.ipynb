{
 "cells": [
  {
   "cell_type": "markdown",
   "metadata": {},
   "source": [
    "# Python Review\n",
    "\n",
    "What we expect you to know already. If this is all new, ask for help during exercises."
   ]
  },
  {
   "cell_type": "markdown",
   "metadata": {},
   "source": [
    "## Data types\n",
    "- **int** (1, 10, -25)\n",
    "- **float** (0.1, 3.14)\n",
    "- **string** (\"Hello, World!\")\n",
    "- **bool** (True, False)"
   ]
  },
  {
   "cell_type": "markdown",
   "metadata": {},
   "source": [
    "## Data structures\n",
    "\n",
    "- **list** An ordered set of elements\n",
    "- **dictionary** An unordered key / value store. Each value can be accessed indexing into the key, e.g. `python_dict['a']`"
   ]
  },
  {
   "cell_type": "markdown",
   "metadata": {},
   "source": [
    "## Operators"
   ]
  },
  {
   "cell_type": "code",
   "execution_count": null,
   "metadata": {},
   "outputs": [],
   "source": [
    "1 + 1  # 2\n",
    "\n",
    "12 / 4  # 3.0\n",
    "\n",
    "1 == 2  # False\n",
    "\n",
    "10 != 0  # True\n",
    "\n",
    "not False  # True\n",
    "\n",
    "True and False  # False\n",
    "\n",
    "False or True  # True"
   ]
  },
  {
   "cell_type": "markdown",
   "metadata": {},
   "source": [
    "## Variables"
   ]
  },
  {
   "cell_type": "code",
   "execution_count": null,
   "metadata": {},
   "outputs": [],
   "source": [
    "x = 5\n",
    "\n",
    "x + 10\n",
    "\n",
    "x = 0"
   ]
  },
  {
   "cell_type": "markdown",
   "metadata": {},
   "source": [
    "## Control Statements\n",
    "\n",
    "Remember, white space is necessary in python."
   ]
  },
  {
   "cell_type": "code",
   "execution_count": null,
   "metadata": {},
   "outputs": [],
   "source": [
    "x = 20\n",
    "\n",
    "if x == 3:\n",
    "    print('x is 3!')\n",
    "elif x > 0:\n",
    "    print('x is greater than 0!')\n",
    "else:\n",
    "    print('x is something else!')\n",
    "    \n",
    "for number in [1, 2, 3, 4, 5]:\n",
    "    print(number)\n",
    "    \n",
    "my_dict = {'key1':'val1', 'key2':'val2'}\n",
    "    \n",
    "for key in my_dict:\n",
    "    print(key)\n",
    "    print(my_dict[key])\n",
    "    \n",
    "while x > 0:\n",
    "    print(x)\n",
    "    x = x - 1"
   ]
  },
  {
   "cell_type": "markdown",
   "metadata": {},
   "source": [
    "## Exercise 1"
   ]
  },
  {
   "cell_type": "code",
   "execution_count": null,
   "metadata": {},
   "outputs": [],
   "source": [
    "#If you are stuck, google or ask for help!\n",
    "\n",
    "python_list = [1,2,3,7]\n",
    "python_dict = {'a':3, 'd':5}\n",
    "\n",
    "# Print each number in the list\n",
    "\n",
    "# INSERT CODE HERE\n",
    "\n",
    "# Print each value in the dictionary\n",
    "\n",
    "# INSERT CODE HERE"
   ]
  },
  {
   "cell_type": "markdown",
   "metadata": {},
   "source": [
    "# JSON\n",
    "\n",
    "A way to store data (lists, dictionaries, etc) in a string or file format. An example and exercise is below."
   ]
  },
  {
   "cell_type": "code",
   "execution_count": 1,
   "metadata": {},
   "outputs": [],
   "source": [
    "import json\n",
    "\n",
    "json_example = '''\n",
    "{\n",
    "    \"created_at\": \"Wed Nov 06 23:58:55 +0000 2019\",\n",
    "    \"text\": \"Kleenex® Brand Underscores Importance of #Skin Care This Cold &amp; Flu Season  #skincare #beautytips  https://t.co/PWqB6MmQVw\",\n",
    "    \"is_quote_status\": false,\n",
    "    \"quote_count\": 0,\n",
    "    \"reply_count\": 0,\n",
    "    \"retweet_count\": 0,\n",
    "    \"favorite_count\": 5,\n",
    "    \"entities\": {\n",
    "        \"hashtags\": [\n",
    "            {\n",
    "                \"text\": \"Skin\",\n",
    "                \"indices\": [41,46]\n",
    "            },\n",
    "            {\n",
    "                \"text\": \"skincare\",\n",
    "                \"indices\": [80,89]\n",
    "            },\n",
    "            {\n",
    "                \"text\": \"beautytips\",\n",
    "                \"indices\": [90,101]\n",
    "            }\n",
    "        ]\n",
    "    },\n",
    "    \"favorited\": false,\n",
    "    \"retweeted\": false\n",
    "}\n",
    "'''"
   ]
  },
  {
   "cell_type": "markdown",
   "metadata": {},
   "source": [
    "## Exercise 2"
   ]
  },
  {
   "cell_type": "code",
   "execution_count": null,
   "metadata": {},
   "outputs": [],
   "source": [
    "# Load the JSON example above (don't forget to run the cell) using\n",
    "# the json.loads() function\n",
    "# Remember, this will turn the json into a python dictionary\n",
    "\n",
    "# INSERT CODE HERE\n",
    "\n",
    "# Print how many times the tweet was retweeted (\"retweet_count\")\n",
    "\n",
    "# INSERT CODE HERE\n",
    "\n",
    "# Print the hashtags in the tweet\n",
    "\n",
    "# INSERT CODE HERE"
   ]
  },
  {
   "cell_type": "markdown",
   "metadata": {},
   "source": [
    "## Saving and Loading JSON to a file\n",
    "\n",
    "Many times it's not convenient to keep on hitting a URL for a JSON, maybe the website is too slow or there is a limit on how many times a user can access it. In these cases, it's best to save the JSON to a file and read it. Below is an example of writing to a file."
   ]
  },
  {
   "cell_type": "code",
   "execution_count": null,
   "metadata": {},
   "outputs": [],
   "source": [
    "with open('myfile.txt', 'w') as test_file:\n",
    "    test_file.write('I am a text file!')"
   ]
  },
  {
   "cell_type": "markdown",
   "metadata": {},
   "source": [
    "## Exercise 3"
   ]
  },
  {
   "cell_type": "code",
   "execution_count": null,
   "metadata": {},
   "outputs": [],
   "source": [
    "# Save the JSON to a file named 'example.json'\n",
    "\n",
    "# INSERT CODE HERE\n",
    "\n",
    "# Load the JSON back from 'example.json' (using json.load)\n",
    "\n",
    "# INSERT CODE HERE"
   ]
  },
  {
   "cell_type": "markdown",
   "metadata": {},
   "source": [
    "# Acessing the Twitter API\n",
    "\n",
    "## Package Requirements\n",
    "\n",
    "We need to install the following packages into your Python environment"
   ]
  },
  {
   "cell_type": "markdown",
   "metadata": {},
   "source": [
    "```\n",
    "requests\n",
    "requests_oauthlib\n",
    "stylecloud\n",
    "pandas\n",
    "```\n"
   ]
  },
  {
   "cell_type": "code",
   "execution_count": null,
   "metadata": {},
   "outputs": [],
   "source": [
    "# Run this cell to install the needed packages\n",
    "import sys\n",
    "!{sys.executable} -m pip install requests requests_oauthlib stylecloud pandas"
   ]
  },
  {
   "cell_type": "markdown",
   "metadata": {},
   "source": [
    "## What is an API?\n",
    "\n",
    "An API (Application Programmer Interface) is a way a website/app allows a user to programmatically access data.\n",
    "\n",
    "## Other ways of accessing data\n",
    "\n",
    "1. Copy and paste data into a spreadsheet (or plain text file) and read with Python package `csv` or `pandas` (or if it's a text file, then loop through the lines) \n",
    "\n",
    "1. Scrape/parse the HTML with Python package *Beautiful Soup* (or equivalent)\n",
    "\n",
    "## API vs. Other Methods\n",
    "\n",
    "An API is more organized and the way the app wants you to access its data. However many websites or apps don't have an API, or it is too poorly designed. In those cases, it's better to use a more crude approach."
   ]
  },
  {
   "cell_type": "markdown",
   "metadata": {},
   "source": [
    "## API Authentication\n",
    "\n",
    "We need to get the tokens from the Twitter development website, but first there are some steps involved and some forms to fill out.\n",
    "\n",
    "1. Go to https://developer.twitter.com/en/apply/user.html\n",
    "\n",
    "1. Login to your Twitter account or create a new user\n",
    "\n",
    "1. Fill out the forms and select you are applying for educational use. It doesn't really matter what you write down as long as you meet the word length. Go through the entire process\n",
    "\n",
    "1. After that is complete, click on your to your name at the top right corner, next to *Dashboard* (not *Dashboard* but next to it) and select *Apps*, then click on *Keys and Tokens*\n",
    "\n",
    "1. Write down the four keys below"
   ]
  },
  {
   "cell_type": "code",
   "execution_count": null,
   "metadata": {},
   "outputs": [],
   "source": [
    "API_KEY = ''\n",
    "API_SECRET = ''\n",
    "ACCESS_TOKEN = ''\n",
    "ACCESS_TOKEN_SECRET = ''"
   ]
  },
  {
   "cell_type": "markdown",
   "metadata": {},
   "source": [
    "Now go here to create a new dev environment https://developer.twitter.com/en/account/environments and select *Full Archive* (Search API). Write down the name of your environment below"
   ]
  },
  {
   "cell_type": "code",
   "execution_count": null,
   "metadata": {},
   "outputs": [],
   "source": [
    "DEV_ENVIRONMENT_NAME = ''"
   ]
  },
  {
   "cell_type": "markdown",
   "metadata": {},
   "source": [
    "Now we are ready to use requests"
   ]
  },
  {
   "cell_type": "code",
   "execution_count": null,
   "metadata": {},
   "outputs": [],
   "source": [
    "import requests\n",
    "from requests_oauthlib import OAuth1\n",
    "\n",
    "SEARCH_API_URL = 'https://api.twitter.com/1.1/tweets/search/fullarchive/{}.json'.format(DEV_ENVIRONMENT_NAME)\n",
    "\n",
    "# Authentication uses OAuth1 as referenced in Twitter documentation\n",
    "auth = OAuth1(API_KEY, API_SECRET, ACCESS_TOKEN, ACCESS_TOKEN_SECRET)"
   ]
  },
  {
   "cell_type": "code",
   "execution_count": null,
   "metadata": {},
   "outputs": [],
   "source": [
    "query = {\n",
    "    \"query\":\"flu\",\n",
    "    \"maxResults\": \"100\",\n",
    "    \"fromDate\":\"201911010000\", \n",
    "    \"toDate\":\"201911062359\"\n",
    "}\n",
    "\n",
    "response = requests.post(SEARCH_API_URL, auth=auth, json=query)"
   ]
  },
  {
   "cell_type": "code",
   "execution_count": null,
   "metadata": {},
   "outputs": [],
   "source": [
    "# Get the tweets from the requests response object\n",
    "# See documentation at this link https://www.w3schools.com/python/ref_requests_response.asp\n",
    "tweets = # INSERT CODE HERE\n",
    "tweets = response.json() # DEBUG\n",
    "\n",
    "# The first result in the\n",
    "tweets['results'][0]"
   ]
  },
  {
   "cell_type": "code",
   "execution_count": null,
   "metadata": {},
   "outputs": [],
   "source": [
    "#EXERCISE add text from tweets into corpus\n",
    "\n",
    "corpus = ''\n",
    "for tweet in tweets['results']:\n",
    "    corpus = #INSERT CODE HERE\n",
    "    corpus += ' ' + tweet['text']\n",
    "\n",
    "\n",
    "corpus"
   ]
  },
  {
   "cell_type": "code",
   "execution_count": null,
   "metadata": {},
   "outputs": [],
   "source": [
    "#EXERCISE convert corpus to lowercase\n",
    "corpus_lower = corpus.lower()"
   ]
  },
  {
   "cell_type": "code",
   "execution_count": null,
   "metadata": {},
   "outputs": [],
   "source": [
    "import stylecloud\n",
    "from IPython.display import Image\n",
    "import os\n",
    "\n",
    "filename = 'wordcloud.png'\n",
    "\n",
    "stylecloud.gen_stylecloud(text=corpus_lower, icon_name='fab fa-twitter', output_name=filename)\n",
    "Image(filename=filename)"
   ]
  },
  {
   "cell_type": "markdown",
   "metadata": {},
   "source": [
    "Now we will use a regular expression to remove everything except spaces and the letters a-z"
   ]
  },
  {
   "cell_type": "code",
   "execution_count": null,
   "metadata": {},
   "outputs": [],
   "source": [
    "import re\n",
    "corpus_no_chars = ' '.join(corpus_lower.splitlines())\n",
    "corpus_no_chars = re.sub(r'[^a-z ]', '', corpus_no_chars)\n",
    "corpus_no_chars"
   ]
  },
  {
   "cell_type": "raw",
   "metadata": {},
   "source": []
  },
  {
   "cell_type": "code",
   "execution_count": null,
   "metadata": {
    "scrolled": true
   },
   "outputs": [],
   "source": []
  },
  {
   "cell_type": "code",
   "execution_count": null,
   "metadata": {},
   "outputs": [],
   "source": []
  },
  {
   "cell_type": "code",
   "execution_count": null,
   "metadata": {},
   "outputs": [],
   "source": []
  }
 ],
 "metadata": {
  "kernelspec": {
   "display_name": "Python 3",
   "language": "python",
   "name": "python3"
  },
  "language_info": {
   "codemirror_mode": {
    "name": "ipython",
    "version": 3
   },
   "file_extension": ".py",
   "mimetype": "text/x-python",
   "name": "python",
   "nbconvert_exporter": "python",
   "pygments_lexer": "ipython3",
   "version": "3.7.4"
  }
 },
 "nbformat": 4,
 "nbformat_minor": 2
}
