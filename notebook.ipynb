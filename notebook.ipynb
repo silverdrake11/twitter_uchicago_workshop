{
 "cells": [
  {
   "cell_type": "markdown",
   "metadata": {},
   "source": [
    "# Python Review\n",
    "\n",
    "What we expect you to know already. If this is all new, ask for help during exercises."
   ]
  },
  {
   "cell_type": "markdown",
   "metadata": {},
   "source": [
    "## Data types\n",
    "- **int** (1, 10, -25)\n",
    "- **float** (0.1, 3.14)\n",
    "- **string** (\"Hello, World!\")\n",
    "- **bool** (True, False)"
   ]
  },
  {
   "cell_type": "markdown",
   "metadata": {},
   "source": [
    "## Data structures\n",
    "\n",
    "- **list** An ordered set of elements\n",
    "- **dictionary** An unordered key / value store. Each value can be accessed indexing into the key, e.g. `python_dict['a']`"
   ]
  },
  {
   "cell_type": "markdown",
   "metadata": {},
   "source": [
    "## Operators"
   ]
  },
  {
   "cell_type": "code",
   "execution_count": null,
   "metadata": {},
   "outputs": [],
   "source": [
    "1 + 1  # 2\n",
    "\n",
    "12 / 4  # 3.0\n",
    "\n",
    "1 == 2  # False\n",
    "\n",
    "10 != 0  # True\n",
    "\n",
    "not False  # True\n",
    "\n",
    "True and False  # False\n",
    "\n",
    "False or True  # True"
   ]
  },
  {
   "cell_type": "markdown",
   "metadata": {},
   "source": [
    "## Variables"
   ]
  },
  {
   "cell_type": "code",
   "execution_count": null,
   "metadata": {},
   "outputs": [],
   "source": [
    "x = 5\n",
    "\n",
    "x + 10\n",
    "\n",
    "x = 0"
   ]
  },
  {
   "cell_type": "markdown",
   "metadata": {},
   "source": [
    "## Control Statements\n",
    "\n",
    "Remember, white space is necessary in python."
   ]
  },
  {
   "cell_type": "code",
   "execution_count": null,
   "metadata": {},
   "outputs": [],
   "source": [
    "x = 20\n",
    "\n",
    "if x == 3:\n",
    "    print('x is 3!')\n",
    "elif x > 0:\n",
    "    print('x is greater than 0!')\n",
    "else:\n",
    "    print('x is something else!')\n",
    "    \n",
    "for number in [1, 2, 3, 4, 5]:\n",
    "    print(number)\n",
    "    \n",
    "my_dict = {'key1':'val1', 'key2':'val2'}\n",
    "    \n",
    "for key in my_dict:\n",
    "    print(key)\n",
    "    print(my_dict[key])\n",
    "    \n",
    "while x > 0:\n",
    "    print(x)\n",
    "    x = x - 1"
   ]
  },
  {
   "cell_type": "markdown",
   "metadata": {},
   "source": [
    "## Exercise 1"
   ]
  },
  {
   "cell_type": "code",
   "execution_count": null,
   "metadata": {},
   "outputs": [],
   "source": [
    "#If you are stuck, google or ask for help!\n",
    "\n",
    "python_list = [1,2,3,7]\n",
    "python_dict = {'a':3, 'd':5}\n",
    "\n",
    "# Print each number in the list\n",
    "\n",
    "# INSERT CODE HERE\n",
    "\n",
    "# Print each value in the dictionary\n",
    "\n",
    "# INSERT CODE HERE"
   ]
  },
  {
   "cell_type": "markdown",
   "metadata": {},
   "source": [
    "# JSON\n",
    "\n",
    "A way to store data (lists, dictionaries, etc) in a string or file format. An example and exercise is below."
   ]
  },
  {
   "cell_type": "code",
   "execution_count": null,
   "metadata": {},
   "outputs": [],
   "source": [
    "import json\n",
    "\n",
    "json_example = '''\n",
    "{\n",
    "    \"created_at\": \"Wed Nov 06 23:58:55 +0000 2019\",\n",
    "    \"text\": \"Kleenex® Brand Underscores Importance of #Skin Care This Cold &amp; Flu Season  #skincare #beautytips  https://t.co/PWqB6MmQVw\",\n",
    "    \"is_quote_status\": false,\n",
    "    \"quote_count\": 0,\n",
    "    \"reply_count\": 0,\n",
    "    \"retweet_count\": 3,\n",
    "    \"favorite_count\": 5,\n",
    "    \"entities\": {\n",
    "        \"hashtags\": [\n",
    "            {\n",
    "                \"text\": \"Skin\",\n",
    "                \"indices\": [41,46]\n",
    "            },\n",
    "            {\n",
    "                \"text\": \"skincare\",\n",
    "                \"indices\": [80,89]\n",
    "            },\n",
    "            {\n",
    "                \"text\": \"beautytips\",\n",
    "                \"indices\": [90,101]\n",
    "            }\n",
    "        ]\n",
    "    },\n",
    "    \"favorited\": false,\n",
    "    \"retweeted\": false\n",
    "}\n",
    "'''"
   ]
  },
  {
   "cell_type": "markdown",
   "metadata": {},
   "source": [
    "## Exercise 2"
   ]
  },
  {
   "cell_type": "code",
   "execution_count": null,
   "metadata": {},
   "outputs": [],
   "source": [
    "# Load the JSON example above (don't forget to run the cell) using\n",
    "# the json.loads() function\n",
    "# Remember, this will turn the json into a python dictionary\n",
    "\n",
    "# INSERT CODE HERE\n",
    "\n",
    "# Print how many times the tweet was retweeted (\"retweet_count\")\n",
    "\n",
    "# INSERT CODE HERE\n",
    "\n",
    "# Print the hashtags in the tweet\n",
    "\n",
    "# INSERT CODE HERE"
   ]
  },
  {
   "cell_type": "markdown",
   "metadata": {},
   "source": [
    "# Don't repeat yourself\n",
    "\n",
    "A common programming tip is to not repeat code. If you find yourself copying and pasting the same code over and over, it's best to make a function. This way you only change it in one place, when you need to change it. Below is an example of a function."
   ]
  },
  {
   "cell_type": "code",
   "execution_count": null,
   "metadata": {},
   "outputs": [],
   "source": [
    "# This function adds one to the value that was passed in and prints it\n",
    "def add_one(a):\n",
    "    b = a + 1\n",
    "    return b"
   ]
  },
  {
   "cell_type": "markdown",
   "metadata": {},
   "source": [
    "## Exercise 3\n",
    "\n",
    "Write a function that takes the example JSON string above and returns the retweet count"
   ]
  },
  {
   "cell_type": "code",
   "execution_count": null,
   "metadata": {},
   "outputs": [],
   "source": [
    "# Write your function here"
   ]
  },
  {
   "cell_type": "markdown",
   "metadata": {},
   "source": [
    "# Saving and Loading JSON to a file\n",
    "\n",
    "Many times it's not convenient to keep on hitting a URL for a JSON, maybe the website is too slow or there is a limit on how many times a user can access it. In these cases, it's best to save the JSON to a file and read it. Below is an example of writing to a file."
   ]
  },
  {
   "cell_type": "code",
   "execution_count": null,
   "metadata": {},
   "outputs": [],
   "source": [
    "with open('myfile.txt', 'w') as test_file:\n",
    "    test_file.write('I am a text file!')"
   ]
  },
  {
   "cell_type": "markdown",
   "metadata": {},
   "source": [
    "## Exercise 4"
   ]
  },
  {
   "cell_type": "code",
   "execution_count": null,
   "metadata": {},
   "outputs": [],
   "source": [
    "# Save the JSON to a file named 'example.json'\n",
    "\n",
    "# INSERT CODE HERE\n",
    "\n",
    "# Load the JSON back from 'example.json' (using json.load)\n",
    "\n",
    "# INSERT CODE HERE"
   ]
  },
  {
   "cell_type": "markdown",
   "metadata": {},
   "source": [
    "# Accessing the Twitter API\n",
    "\n",
    "We are going to access www.twitter.com and use the search feature. Here is an example of what we will do with, but with code.\n",
    "\n",
    "\n",
    "## Package Requirements\n",
    "\n",
    "We need to install the following packages into your Python environment"
   ]
  },
  {
   "cell_type": "code",
   "execution_count": null,
   "metadata": {
    "scrolled": true
   },
   "outputs": [],
   "source": [
    "# Run this cell to install the needed packages\n",
    "import sys\n",
    "!{sys.executable} -m pip install requests requests_oauthlib stylecloud pandas matplotlib"
   ]
  },
  {
   "cell_type": "markdown",
   "metadata": {},
   "source": [
    "## What is an API?\n",
    "\n",
    "An API (Application Programmer Interface) is a way a website/app allows a user to programmatically access data.\n",
    "\n",
    "## Other ways of accessing data\n",
    "\n",
    "1. Copy and paste data into a spreadsheet (or plain text file) and read with Python package `csv` or `pandas` (or if it's a text file, then loop through the lines) \n",
    "\n",
    "1. Scrape/parse the HTML with Python package *Beautiful Soup* (or equivalent)\n",
    "\n",
    "## API vs. Other Methods\n",
    "\n",
    "An API is more organized and the way the app wants you to access its data. However many websites or apps don't have an API, or it is too poorly designed. In those cases, it's better to use a more crude approach."
   ]
  },
  {
   "cell_type": "markdown",
   "metadata": {},
   "source": [
    "# API Authentication\n",
    "\n",
    "We need to get the tokens from the Twitter development website, but first there are some steps involved and some forms to fill out.\n",
    "\n",
    "## Exercise 5\n",
    "\n",
    "1. Go to https://developer.twitter.com/en/apply/user.html\n",
    "\n",
    "1. Login to your Twitter account or create a new user\n",
    "\n",
    "1. Fill out the forms and select you are applying for educational use. It doesn't really matter what you write down as long as you meet the word length. Go through the entire process\n",
    "\n",
    "1. After that is complete, click on your to your name at the top right corner, next to *Dashboard* (not *Dashboard* but next to it) and select *Apps*, then click on *Keys and Tokens*\n",
    "\n",
    "1. Write down the four keys below"
   ]
  },
  {
   "cell_type": "code",
   "execution_count": null,
   "metadata": {},
   "outputs": [],
   "source": [
    "# Write down your api keys here\n",
    "API_KEY = ''\n",
    "API_SECRET = ''\n",
    "ACCESS_TOKEN = ''\n",
    "ACCESS_TOKEN_SECRET = ''"
   ]
  },
  {
   "cell_type": "markdown",
   "metadata": {},
   "source": [
    "## Exercise 6\n",
    "\n",
    "Now go here to create a new dev environment https://developer.twitter.com/en/account/environments and select *Full Archive* (Search API). Write down the name of your environment below."
   ]
  },
  {
   "cell_type": "code",
   "execution_count": null,
   "metadata": {},
   "outputs": [],
   "source": [
    "# Write the environment name below\n",
    "DEV_ENVIRONMENT_NAME = ''\n"
   ]
  },
  {
   "cell_type": "markdown",
   "metadata": {},
   "source": [
    "# Twitter Search API\n",
    "\n",
    "Now we are ready to use _requests_ to access the api. _requests_ is a Python package used to access a URL and get the website data back."
   ]
  },
  {
   "cell_type": "code",
   "execution_count": null,
   "metadata": {},
   "outputs": [],
   "source": [
    "import requests\n",
    "from requests_oauthlib import OAuth1\n",
    "\n",
    "SEARCH_API_URL = 'https://api.twitter.com/1.1/tweets/search/30day/{}.json'.format(DEV_ENVIRONMENT_NAME)\n",
    "\n",
    "# Authentication uses OAuth1 as referenced in Twitter documentation\n",
    "auth = OAuth1(API_KEY, API_SECRET, ACCESS_TOKEN, ACCESS_TOKEN_SECRET)"
   ]
  },
  {
   "cell_type": "markdown",
   "metadata": {},
   "source": [
    "We are now ready to send a search query to twitter and get back the JSON response\n",
    "\n",
    "## Exercise 7\n",
    "\n",
    "Use the documentation here https://developer.twitter.com/en/docs/tweets/search/quick-start/premium-full-archive to figure out how to format your JSON data that you are sending to twitter. The data will be a python dictionary that the _requests_ library will convert to a JSON for you when sending the data."
   ]
  },
  {
   "cell_type": "code",
   "execution_count": null,
   "metadata": {},
   "outputs": [],
   "source": [
    "query_data = {\n",
    "    # INSERT CODE HERE\n",
    "}\n",
    "\n",
    "\n",
    "response = requests.post(SEARCH_API_URL, auth=auth, json=query_data)"
   ]
  },
  {
   "cell_type": "markdown",
   "metadata": {},
   "source": [
    "## Exercise 8\n",
    "\n",
    "Now that we sent the request, we need to figure out how to get the result back into a python data type so we can read it. Use"
   ]
  },
  {
   "cell_type": "code",
   "execution_count": null,
   "metadata": {},
   "outputs": [],
   "source": [
    "# Get the tweets from the requests response object\n",
    "# See documentation at this link https://www.w3schools.com/python/ref_requests_response.asp\n",
    "tweets = # INSERT CODE HERE\n",
    "print(len(tweets['results']))\n",
    "\n",
    "# The first result in the\n",
    "tweets['results'][0]"
   ]
  },
  {
   "cell_type": "markdown",
   "metadata": {},
   "source": [
    "# Query Operators\n",
    "\n",
    "Different operators can be applied to the query to for example filter the search results by location. All operators are listed here https://developer.twitter.com/en/docs/tweets/rules-and-filtering/overview/premium-operators\n",
    "\n",
    "For example if we wanted to search for _flu_ in *Chicago* we would have this code `\"query\":\"flu place:chicago\"` in our JSON\n",
    "\n",
    "## Exercise 9\n",
    "\n",
    "Make another search now but now use one of the operators linked above to have a more specific result."
   ]
  },
  {
   "cell_type": "code",
   "execution_count": null,
   "metadata": {},
   "outputs": [],
   "source": [
    "# INSERT CODE HERE"
   ]
  },
  {
   "cell_type": "markdown",
   "metadata": {},
   "source": [
    "## Exercise 10\n",
    "\n",
    "Collect all the tweets into one python string, use the sample code below"
   ]
  },
  {
   "cell_type": "code",
   "execution_count": null,
   "metadata": {},
   "outputs": [],
   "source": [
    "corpus = ''\n",
    "for tweet in tweets['results']:\n",
    "    corpus = #INSERT CODE HERE\n",
    "\n",
    "corpus"
   ]
  },
  {
   "cell_type": "markdown",
   "metadata": {},
   "source": [
    "## Exercise 11\n",
    "\n",
    "We are going to convert the tweets into text a few times so we can process the next from different searches. Since we don't want to repeat ourself, write a function below that takes the query JSON and returns the text from all the tweets."
   ]
  },
  {
   "cell_type": "code",
   "execution_count": null,
   "metadata": {},
   "outputs": [],
   "source": [
    "def get_text_from_search(query_data):\n",
    "    '''INSERT CODE BELOW'''\n"
   ]
  },
  {
   "cell_type": "markdown",
   "metadata": {},
   "source": [
    "# Word Cloud\n",
    "\n",
    "Now that we have some tweet results, we are going to collect all the text into one python string so we can make a word cloud\n",
    "\n",
    "There are few python libraries that convert text to a word cloud. This one allows us to specify any shape from https://fontawesome.com/ so we will use the twitter logo"
   ]
  },
  {
   "cell_type": "code",
   "execution_count": null,
   "metadata": {
    "scrolled": true
   },
   "outputs": [],
   "source": [
    "import stylecloud\n",
    "from IPython.display import Image\n",
    "import os\n",
    "\n",
    "filename = 'wordcloud.png'\n",
    "\n",
    "stylecloud.gen_stylecloud(text=corpus, icon_name='fab fa-twitter', output_name=filename)\n",
    "Image(filename=filename)"
   ]
  },
  {
   "cell_type": "markdown",
   "metadata": {},
   "source": [
    "## Exercise 12\n",
    "\n",
    "Many times the sites we are interested in analyzing data from, do not have apis. Can you generate the word cloud using a more crude method? (Hint: One way is to copy and paste the text from twitter into a string and then pass that into the word cloud.)"
   ]
  },
  {
   "cell_type": "code",
   "execution_count": null,
   "metadata": {},
   "outputs": [],
   "source": [
    "# INSERT CODE HERE"
   ]
  },
  {
   "cell_type": "markdown",
   "metadata": {},
   "source": [
    "# Data Cleaning and Analysis\n",
    "\n",
    "Now we will do some cleaning to the text. We didn't have to before because the wordlcoud package did that for you. However, now since we are doing a more specific analysis, we will have to clean the data.\n",
    "\n",
    "## Exercise 12\n",
    "\n",
    "Convert the text we have collected into lowercase"
   ]
  },
  {
   "cell_type": "code",
   "execution_count": null,
   "metadata": {},
   "outputs": [],
   "source": [
    "corpus_lower = corpus # replace with your CODE HERE"
   ]
  },
  {
   "cell_type": "markdown",
   "metadata": {},
   "source": [
    "We will replace newline characters with spaces and remove non alphabet characters."
   ]
  },
  {
   "cell_type": "code",
   "execution_count": null,
   "metadata": {
    "scrolled": true
   },
   "outputs": [],
   "source": [
    "import re\n",
    "corpus_no_chars = ' '.join(corpus_lower.splitlines())\n",
    "corpus_no_chars = re.sub(r'[^a-z ]', '', corpus_no_chars)\n",
    "corpus_no_chars"
   ]
  },
  {
   "cell_type": "markdown",
   "metadata": {},
   "source": [
    "## Bar Plot\n",
    "\n",
    "We will now make a bar plot of the word occurrances in the tweets, but first we need to create a function to count the word occurances.\n",
    "\n",
    "## Exercise 13\n",
    "\n",
    "Make a function that given the tweet text and a word, it cleans the text (using the code above) and counts the occurance of that word.\n",
    "\n",
    "Use `str.count` to count the words. For example `'hello world'.count('hello')` will return `1`."
   ]
  },
  {
   "cell_type": "code",
   "execution_count": null,
   "metadata": {},
   "outputs": [],
   "source": [
    "def clean_and_count(tweet_text, word):\n",
    "    # INSERT CODE HERE\n"
   ]
  },
  {
   "cell_type": "markdown",
   "metadata": {},
   "source": [
    "# Pandas\n",
    "\n",
    "Pandas is a powerful python package for reading csv files, storing csv files, and analyzing or changing the data in them.\n",
    "\n",
    "In addition from reading in a Dataframe from a csv file, we can also make our own using a dictionary like the following example."
   ]
  },
  {
   "cell_type": "code",
   "execution_count": null,
   "metadata": {},
   "outputs": [],
   "source": [
    "import pandas\n",
    "\n",
    "data = {'place':['chicago', 'detoit'], 'trump':[3,4], 'hilary':[5,3]}\n",
    "df = pd.DataFrame(data)\n",
    "df"
   ]
  },
  {
   "cell_type": "markdown",
   "metadata": {},
   "source": [
    "## Exercise 14\n",
    "\n",
    "Play around with the pandas syntax, look at this guide https://jalammar.github.io/gentle-visual-intro-to-data-analysis-python-pandas/\n",
    "\n",
    "How do you print only the `place` column? How do you save it and read from csv?"
   ]
  },
  {
   "cell_type": "code",
   "execution_count": null,
   "metadata": {},
   "outputs": [],
   "source": [
    "# INSERT CODE HERE"
   ]
  },
  {
   "cell_type": "markdown",
   "metadata": {},
   "source": [
    "## Exercise 15\n",
    "\n",
    "Construct a dict to create a pandas dataframe similar to the example above. Use `clean_and_count` and fill the code below. Don't forget to fill out the place as well."
   ]
  },
  {
   "cell_type": "code",
   "execution_count": null,
   "metadata": {
    "scrolled": true
   },
   "outputs": [],
   "source": [
    "data = {}\n",
    "places = ['chicago', 'texas', 'alabama', 'california']\n",
    "for place in places:\n",
    "    tweet_text = get_text_from_search('impeachment place:' + place)\n",
    "    words = ['trump', 'barr', 'stone', 'schiff', 'clinton', 'obama']\n",
    "    \n",
    "    # Initialize the dictionary of lists \n",
    "    for word in words:\n",
    "        data[word] = []\n",
    "    \n",
    "    for word in words:\n",
    "\n",
    "        # INSERT CODE HERE\n",
    "        \n",
    "\n",
    "df = pd.DataFrame(data)\n"
   ]
  },
  {
   "cell_type": "markdown",
   "metadata": {},
   "source": [
    "# Plotting\n",
    "\n",
    "Now we are ready to plot!"
   ]
  },
  {
   "cell_type": "code",
   "execution_count": null,
   "metadata": {},
   "outputs": [],
   "source": [
    "df.plot(kind='bar',x='place',y=words)"
   ]
  },
  {
   "cell_type": "markdown",
   "metadata": {},
   "source": [
    "# Exercise 16: Occurances of All Words Dataframe\n",
    "\n",
    "Using what we've learned so far, make a `pandas` dataframe with two columns. One a list of all the words and the second one how many that word appears. What `pandas` command will give you the top 5 words?"
   ]
  },
  {
   "cell_type": "code",
   "execution_count": null,
   "metadata": {},
   "outputs": [],
   "source": []
  }
 ],
 "metadata": {
  "kernelspec": {
   "display_name": "Python 3",
   "language": "python",
   "name": "python3"
  },
  "language_info": {
   "codemirror_mode": {
    "name": "ipython",
    "version": 3
   },
   "file_extension": ".py",
   "mimetype": "text/x-python",
   "name": "python",
   "nbconvert_exporter": "python",
   "pygments_lexer": "ipython3",
   "version": "3.7.3"
  }
 },
 "nbformat": 4,
 "nbformat_minor": 2
}
