{
 "cells": [
  {
   "cell_type": "markdown",
   "metadata": {},
   "source": [
    "# Python Review\n",
    "\n",
    "What we expect you to know already. If this is all new, ask for help during exercises."
   ]
  },
  {
   "cell_type": "markdown",
   "metadata": {},
   "source": [
    "## Data types\n",
    "- **int** (1, 10, -25)\n",
    "- **float** (0.1, 3.14)\n",
    "- **string** (\"Hello, World!\")\n",
    "- **bool** (True, False)"
   ]
  },
  {
   "cell_type": "markdown",
   "metadata": {},
   "source": [
    "## Data structures\n",
    "\n",
    "- **list** An ordered set of elements\n",
    "- **dictionary** An unordered key / value store. Each value can be accessed indexing into the key, e.g. `python_dict['a']`"
   ]
  },
  {
   "cell_type": "markdown",
   "metadata": {},
   "source": [
    "## Operators"
   ]
  },
  {
   "cell_type": "code",
   "execution_count": null,
   "metadata": {},
   "outputs": [],
   "source": [
    "1 + 1  # 2\n",
    "\n",
    "12 / 4  # 3.0\n",
    "\n",
    "1 == 2  # False\n",
    "\n",
    "10 != 0  # True\n",
    "\n",
    "not False  # True\n",
    "\n",
    "True and False  # False\n",
    "\n",
    "False or True  # True"
   ]
  },
  {
   "cell_type": "markdown",
   "metadata": {},
   "source": [
    "## Variables"
   ]
  },
  {
   "cell_type": "code",
   "execution_count": null,
   "metadata": {},
   "outputs": [],
   "source": [
    "x = 5\n",
    "\n",
    "x + 10\n",
    "\n",
    "x = 0"
   ]
  },
  {
   "cell_type": "markdown",
   "metadata": {},
   "source": [
    "## Control Statements\n",
    "\n",
    "Remember, white space is necessary in python."
   ]
  },
  {
   "cell_type": "code",
   "execution_count": null,
   "metadata": {},
   "outputs": [],
   "source": [
    "x = 20\n",
    "\n",
    "if x == 3:\n",
    "    print('x is 3!')\n",
    "elif x > 0:\n",
    "    print('x is greater than 0!')\n",
    "else:\n",
    "    print('x is something else!')\n",
    "    \n",
    "for number in [1, 2, 3, 4, 5]:\n",
    "    print(number)\n",
    "    \n",
    "my_dict = {'key1':'val1', 'key2':'val2'}\n",
    "    \n",
    "for key in my_dict:\n",
    "    print(key)\n",
    "    print(my_dict[key])\n",
    "    \n",
    "while x > 0:\n",
    "    print(x)\n",
    "    x = x - 1"
   ]
  },
  {
   "cell_type": "markdown",
   "metadata": {},
   "source": [
    "## Exercise 1"
   ]
  },
  {
   "cell_type": "code",
   "execution_count": null,
   "metadata": {},
   "outputs": [],
   "source": [
    "#If you are stuck, google or ask for help!\n",
    "\n",
    "python_list = [1,2,3,7]\n",
    "python_dict = {'a':3, 'd':5}\n",
    "\n",
    "# Print each number in the list\n",
    "\n",
    "# INSERT CODE HERE\n",
    "\n",
    "# Print each value in the dictionary\n",
    "\n",
    "# INSERT CODE HERE"
   ]
  },
  {
   "cell_type": "markdown",
   "metadata": {},
   "source": [
    "# JSON\n",
    "\n",
    "A way to store data (lists, dictionaries, etc) in a string or file format. An example and exercise is below."
   ]
  },
  {
   "cell_type": "code",
   "execution_count": 1,
   "metadata": {},
   "outputs": [],
   "source": [
    "import json\n",
    "\n",
    "json_example = '''\n",
    "{\n",
    "    \"created_at\": \"Wed Nov 06 23:58:55 +0000 2019\",\n",
    "    \"text\": \"Kleenex® Brand Underscores Importance of #Skin Care This Cold &amp; Flu Season  #skincare #beautytips  https://t.co/PWqB6MmQVw\",\n",
    "    \"is_quote_status\": false,\n",
    "    \"quote_count\": 0,\n",
    "    \"reply_count\": 0,\n",
    "    \"retweet_count\": 3,\n",
    "    \"favorite_count\": 5,\n",
    "    \"entities\": {\n",
    "        \"hashtags\": [\n",
    "            {\n",
    "                \"text\": \"Skin\",\n",
    "                \"indices\": [41,46]\n",
    "            },\n",
    "            {\n",
    "                \"text\": \"skincare\",\n",
    "                \"indices\": [80,89]\n",
    "            },\n",
    "            {\n",
    "                \"text\": \"beautytips\",\n",
    "                \"indices\": [90,101]\n",
    "            }\n",
    "        ]\n",
    "    },\n",
    "    \"favorited\": false,\n",
    "    \"retweeted\": false\n",
    "}\n",
    "'''"
   ]
  },
  {
   "cell_type": "markdown",
   "metadata": {},
   "source": [
    "## Exercise 2"
   ]
  },
  {
   "cell_type": "code",
   "execution_count": null,
   "metadata": {},
   "outputs": [],
   "source": [
    "# Load the JSON example above (don't forget to run the cell) using\n",
    "# the json.loads() function\n",
    "# Remember, this will turn the json into a python dictionary\n",
    "\n",
    "# INSERT CODE HERE\n",
    "\n",
    "# Print how many times the tweet was retweeted (\"retweet_count\")\n",
    "\n",
    "# INSERT CODE HERE\n",
    "\n",
    "# Print the hashtags in the tweet\n",
    "\n",
    "# INSERT CODE HERE"
   ]
  },
  {
   "cell_type": "markdown",
   "metadata": {},
   "source": [
    "# Don't repeat yourself\n",
    "\n",
    "A common programming tip is to not repeat code. If you find yourself copying and pasting the same code over and over, it's best to make a function. This way you only change it in one place, when you need to change it. Below is an example of a function."
   ]
  },
  {
   "cell_type": "code",
   "execution_count": 2,
   "metadata": {},
   "outputs": [],
   "source": [
    "# This function adds one to the value that was passed in and prints it\n",
    "def add_one(a):\n",
    "    b = a + 1\n",
    "    return b"
   ]
  },
  {
   "cell_type": "markdown",
   "metadata": {},
   "source": [
    "## Exercise 3\n",
    "\n",
    "Write a function that takes the example JSON string above and returns the retweet count"
   ]
  },
  {
   "cell_type": "code",
   "execution_count": 3,
   "metadata": {},
   "outputs": [],
   "source": [
    "# Write your function here"
   ]
  },
  {
   "cell_type": "markdown",
   "metadata": {},
   "source": [
    "# Saving and Loading JSON to a file\n",
    "\n",
    "Many times it's not convenient to keep on hitting a URL for a JSON, maybe the website is too slow or there is a limit on how many times a user can access it. In these cases, it's best to save the JSON to a file and read it. Below is an example of writing to a file."
   ]
  },
  {
   "cell_type": "code",
   "execution_count": null,
   "metadata": {},
   "outputs": [],
   "source": [
    "with open('myfile.txt', 'w') as test_file:\n",
    "    test_file.write('I am a text file!')"
   ]
  },
  {
   "cell_type": "markdown",
   "metadata": {},
   "source": [
    "## Exercise 4"
   ]
  },
  {
   "cell_type": "code",
   "execution_count": null,
   "metadata": {},
   "outputs": [],
   "source": [
    "# Save the JSON to a file named 'example.json'\n",
    "\n",
    "# INSERT CODE HERE\n",
    "\n",
    "# Load the JSON back from 'example.json' (using json.load)\n",
    "\n",
    "# INSERT CODE HERE"
   ]
  },
  {
   "cell_type": "markdown",
   "metadata": {},
   "source": [
    "# Accessing the Twitter API\n",
    "\n",
    "We are going to access www.twitter.com and use the search feature. Here is an example of what we will do with, but with code.\n",
    "\n",
    "\n",
    "## Package Requirements\n",
    "\n",
    "We need to install the following packages into your Python environment"
   ]
  },
  {
   "cell_type": "code",
   "execution_count": null,
   "metadata": {
    "scrolled": true
   },
   "outputs": [],
   "source": [
    "# Run this cell to install the needed packages\n",
    "import sys\n",
    "!{sys.executable} -m pip install requests requests_oauthlib stylecloud pandas matplotlib"
   ]
  },
  {
   "cell_type": "markdown",
   "metadata": {},
   "source": [
    "## What is an API?\n",
    "\n",
    "An API (Application Programmer Interface) is a way a website/app allows a user to programmatically access data.\n",
    "\n",
    "## Other ways of accessing data\n",
    "\n",
    "1. Copy and paste data into a spreadsheet (or plain text file) and read with Python package `csv` or `pandas` (or if it's a text file, then loop through the lines) \n",
    "\n",
    "1. Scrape/parse the HTML with Python package *Beautiful Soup* (or equivalent)\n",
    "\n",
    "## API vs. Other Methods\n",
    "\n",
    "An API is more organized and the way the app wants you to access its data. However many websites or apps don't have an API, or it is too poorly designed. In those cases, it's better to use a more crude approach."
   ]
  },
  {
   "cell_type": "markdown",
   "metadata": {},
   "source": [
    "# API Authentication\n",
    "\n",
    "We need to get the tokens from the Twitter development website, but first there are some steps involved and some forms to fill out.\n",
    "\n",
    "## Exercise 5\n",
    "\n",
    "1. Go to https://developer.twitter.com/en/apply/user.html\n",
    "\n",
    "1. Login to your Twitter account or create a new user\n",
    "\n",
    "1. Fill out the forms and select you are applying for educational use. It doesn't really matter what you write down as long as you meet the word length. Go through the entire process\n",
    "\n",
    "1. After that is complete, click on your to your name at the top right corner, next to *Dashboard* (not *Dashboard* but next to it) and select *Apps*, then click on *Keys and Tokens*\n",
    "\n",
    "1. Write down the four keys below"
   ]
  },
  {
   "cell_type": "code",
   "execution_count": 97,
   "metadata": {},
   "outputs": [],
   "source": [
    "# Write down your api keys here\n",
    "API_KEY = ''\n",
    "API_SECRET = ''\n",
    "ACCESS_TOKEN = ''\n",
    "ACCESS_TOKEN_SECRET = ''"
   ]
  },
  {
   "cell_type": "markdown",
   "metadata": {},
   "source": [
    "## Exercise 6\n",
    "\n",
    "Now go here to create a new dev environment https://developer.twitter.com/en/account/environments and select *Full Archive* (Search API). Write down the name of your environment below."
   ]
  },
  {
   "cell_type": "code",
   "execution_count": 98,
   "metadata": {},
   "outputs": [],
   "source": [
    "# Write the environment name below\n",
    "DEV_ENVIRONMENT_NAME = ''\n",
    "\n",
    "DEV_ENVIRONMENT_NAME = 'devlopement2' #DEBUG"
   ]
  },
  {
   "cell_type": "markdown",
   "metadata": {},
   "source": [
    "# Twitter Search API\n",
    "\n",
    "Now we are ready to use _requests_ to access the api. _requests_ is a Python package used to access a URL and get the website data back."
   ]
  },
  {
   "cell_type": "code",
   "execution_count": 4,
   "metadata": {},
   "outputs": [],
   "source": [
    "import requests\n",
    "from requests_oauthlib import OAuth1\n",
    "\n",
    "SEARCH_API_URL = 'https://api.twitter.com/1.1/tweets/search/fullarchive/{}.json'.format(DEV_ENVIRONMENT_NAME)\n",
    "\n",
    "# Authentication uses OAuth1 as referenced in Twitter documentation\n",
    "auth = OAuth1(API_KEY, API_SECRET, ACCESS_TOKEN, ACCESS_TOKEN_SECRET)"
   ]
  },
  {
   "cell_type": "markdown",
   "metadata": {},
   "source": [
    "We are now ready to send a search query to twitter and get back the JSON response\n",
    "\n",
    "## Exercise 7\n",
    "\n",
    "Use the documentation here https://developer.twitter.com/en/docs/tweets/search/quick-start/premium-full-archive to figure out how to format your JSON data that you are sending to twitter. The data will be a python dictionary that the _requests_ library will convert to a JSON for you when sending the data."
   ]
  },
  {
   "cell_type": "code",
   "execution_count": 38,
   "metadata": {},
   "outputs": [],
   "source": [
    "query_data = {\n",
    "    # INSERT CODE HERE\n",
    "}\n",
    "\n",
    "\n",
    "query_data = { # DEBUG\n",
    "    \"query\":\"flu\",\n",
    "    \"maxResults\": \"100\",\n",
    "    \"fromDate\":\"201901010000\", \n",
    "    \"toDate\":\"201911062359\"\n",
    "}\n",
    "\n",
    "response = requests.post(SEARCH_API_URL, auth=auth, json=query_data)"
   ]
  },
  {
   "cell_type": "markdown",
   "metadata": {},
   "source": [
    "## Exercise 8\n",
    "\n",
    "Now that we sent the request, we need to figure out how to get the result back into a python data type so we can read it. Use"
   ]
  },
  {
   "cell_type": "code",
   "execution_count": 39,
   "metadata": {},
   "outputs": [
    {
     "name": "stdout",
     "output_type": "stream",
     "text": [
      "99\n"
     ]
    },
    {
     "data": {
      "text/plain": [
       "{'created_at': 'Wed Nov 06 23:58:55 +0000 2019',\n",
       " 'id': 1192229910447894529,\n",
       " 'id_str': '1192229910447894529',\n",
       " 'text': 'Kleenex® Brand Underscores Importance of #Skin Care This Cold &amp; Flu Season  #skincare #beautytips  https://t.co/PWqB6MmQVw',\n",
       " 'source': '<a href=\"https://ifttt.com\" rel=\"nofollow\">IFTTT</a>',\n",
       " 'truncated': False,\n",
       " 'in_reply_to_status_id': None,\n",
       " 'in_reply_to_status_id_str': None,\n",
       " 'in_reply_to_user_id': None,\n",
       " 'in_reply_to_user_id_str': None,\n",
       " 'in_reply_to_screen_name': None,\n",
       " 'user': {'id': 309395444,\n",
       "  'id_str': '309395444',\n",
       "  'name': 'Beauty Skin',\n",
       "  'screen_name': '_Beauty_Skin',\n",
       "  'location': 'USA',\n",
       "  'url': 'https://bit.ly/2G4eCKS',\n",
       "  'description': 'Info, tips & products for your skin! https://bit.ly/2G4eCKS',\n",
       "  'translator_type': 'none',\n",
       "  'protected': False,\n",
       "  'verified': False,\n",
       "  'followers_count': 753,\n",
       "  'friends_count': 645,\n",
       "  'listed_count': 69,\n",
       "  'favourites_count': 0,\n",
       "  'statuses_count': 22885,\n",
       "  'created_at': 'Thu Jun 02 01:09:43 +0000 2011',\n",
       "  'utc_offset': None,\n",
       "  'time_zone': None,\n",
       "  'geo_enabled': False,\n",
       "  'lang': None,\n",
       "  'contributors_enabled': False,\n",
       "  'is_translator': False,\n",
       "  'profile_background_color': 'C0DEED',\n",
       "  'profile_background_image_url': 'http://abs.twimg.com/images/themes/theme1/bg.png',\n",
       "  'profile_background_image_url_https': 'https://abs.twimg.com/images/themes/theme1/bg.png',\n",
       "  'profile_background_tile': False,\n",
       "  'profile_link_color': '1DA1F2',\n",
       "  'profile_sidebar_border_color': 'C0DEED',\n",
       "  'profile_sidebar_fill_color': 'DDEEF6',\n",
       "  'profile_text_color': '333333',\n",
       "  'profile_use_background_image': True,\n",
       "  'profile_image_url': 'http://pbs.twimg.com/profile_images/1378241523/after-weight-loss_normal.jpg',\n",
       "  'profile_image_url_https': 'https://pbs.twimg.com/profile_images/1378241523/after-weight-loss_normal.jpg',\n",
       "  'default_profile': True,\n",
       "  'default_profile_image': False,\n",
       "  'following': None,\n",
       "  'follow_request_sent': None,\n",
       "  'notifications': None},\n",
       " 'geo': None,\n",
       " 'coordinates': None,\n",
       " 'place': None,\n",
       " 'contributors': None,\n",
       " 'is_quote_status': False,\n",
       " 'quote_count': 0,\n",
       " 'reply_count': 0,\n",
       " 'retweet_count': 0,\n",
       " 'favorite_count': 0,\n",
       " 'entities': {'hashtags': [{'text': 'Skin', 'indices': [41, 46]},\n",
       "   {'text': 'skincare', 'indices': [80, 89]},\n",
       "   {'text': 'beautytips', 'indices': [90, 101]}],\n",
       "  'urls': [{'url': 'https://t.co/PWqB6MmQVw',\n",
       "    'expanded_url': 'https://ift.tt/2qvQnQs',\n",
       "    'display_url': 'ift.tt/2qvQnQs',\n",
       "    'indices': [103, 126]}],\n",
       "  'user_mentions': [],\n",
       "  'symbols': []},\n",
       " 'favorited': False,\n",
       " 'retweeted': False,\n",
       " 'possibly_sensitive': False,\n",
       " 'filter_level': 'low',\n",
       " 'lang': 'en',\n",
       " 'matching_rules': [{'tag': None}]}"
      ]
     },
     "execution_count": 39,
     "metadata": {},
     "output_type": "execute_result"
    }
   ],
   "source": [
    "# Get the tweets from the requests response object\n",
    "# See documentation at this link https://www.w3schools.com/python/ref_requests_response.asp\n",
    "#tweets = # INSERT CODE HERE\n",
    "tweets = response.json() # DEBUG\n",
    "print(len(tweets['results']))\n",
    "\n",
    "# The first result in the\n",
    "tweets['results'][0]"
   ]
  },
  {
   "cell_type": "markdown",
   "metadata": {},
   "source": [
    "# Query Operators\n",
    "\n",
    "Different operators can be applied to the query to for example filter the search results by location. All operators are listed here https://developer.twitter.com/en/docs/tweets/rules-and-filtering/overview/premium-operators\n",
    "\n",
    "For example if we wanted to search for _flu_ in *Chicago* we would have this code `\"query\":\"flu place:chicago\"` in our JSON\n",
    "\n",
    "## Exercise 9\n",
    "\n",
    "Make another search now but now use one of the operators linked above to have a more specific result."
   ]
  },
  {
   "cell_type": "code",
   "execution_count": null,
   "metadata": {},
   "outputs": [],
   "source": [
    "# INSERT CODE HERE"
   ]
  },
  {
   "cell_type": "markdown",
   "metadata": {},
   "source": [
    "## Exercise 10\n",
    "\n",
    "Collect all the tweets into one python string, use the sample code below"
   ]
  },
  {
   "cell_type": "code",
   "execution_count": 7,
   "metadata": {},
   "outputs": [
    {
     "data": {
      "text/plain": [
       "' Kleenex® Brand Underscores Importance of #Skin Care This Cold &amp; Flu Season  #skincare #beautytips  https://t.co/PWqB6MmQVw RT @sblackmoore: Seriously, what the fuck is this \"They\\'ll overuse health care!\" bullshit?\\n\\nHow do you even do that? \\n\\n\"You keep getting th… @BryanLunduke Get yer flu shots, kids, get yer shots.\\n\\n(Not saying this was the case for Brian, but it\\'s a good reminder of the need) RT @SChandraHerbert: Local pharmacies had run out of the vaccine, but our new urgent care centre is open to provide flu shots, and you don’… @ArtandDD_Sharon I ignore fear propaganda regarding the flu shot. A few weeks ago, I visited Mom in the nursing hom… https://t.co/t8b3sw485O @guanixim7 kkkkkkkkkk ah mano eu queria uma blusa do Flu tb RT @PrairiePhlox: Hi\\nGet flu shots\\nGet vaccinated\\nTake the entire run of your goddamn antibiotics as prescribed\\n\\nIf you\\'ve got some shit to… RT @peterongilford: @steeletalk @SChandraHerbert tweeted earlier today that most pharmacies have run out of flu vaccines You can get one at… RT @son_of_malcolm: Fried Chicken Flu is comin https://t.co/j20zNyziep https://t.co/BG6s2F4d2I Got my flu shot today @CalgaryCoop  and it took 5 minutes. Flu shots are free for Albertans and you can get them at… https://t.co/bdSxxvKznG RT @DrMkhize4: Exercising while you have flu, can get the virus in your blood stream. This can lead to what is called viral myocarditis, wh… RT @TrisResists: “trump cares about you like a flu virus does...he makes you ache and vomit and wish you were dead”! \\nAs always, thank you… Got cavities filled AND my flu shot all in one day. Now I treat myself to a @Target trip 🎯 @maxkellerman Max an MVP plays all the games and  they dont sit out with fake injuries just to rest a real MVP play… https://t.co/KU9ywgnqo0 Vou torrar meu dinheiro fazendo body pro baby. 😍 o primeiro do flu breve tá na pista 💙 @dazzlegal Camilla won’t be going again. They said she has chest infection or the flu 🤪 RT @lionlible: Kepala pusing karena kebanyakan baca buku, ditambah flu akibat cuaca yang gak stabil, tapi dia cuma natap datar kelewat taja… RT @son_of_malcolm: Fried Chicken Flu is comin https://t.co/j20zNyziep https://t.co/BG6s2F4d2I RT @TrisResists: “trump cares about you like a flu virus does...he makes you ache and vomit and wish you were dead”! \\nAs always, thank you… RT @PrairiePhlox: Hi\\nGet flu shots\\nGet vaccinated\\nTake the entire run of your goddamn antibiotics as prescribed\\n\\nIf you\\'ve got some shit to… RT @TrisResists: “trump cares about you like a flu virus does...he makes you ache and vomit and wish you were dead”! \\nAs always, thank you… Got my flu jab today. https://t.co/Jkxj9gxOkZ @Cheeksack #BetaBalledBeto couldn’t even handle a Flu shot named AR 22 😂😂😂 When you have flu and can\\'t sleep... so you jerk off to sleep but still don\\'t sleep. Now you have three things post… https://t.co/Mqf19NofLA @TotsTeeter @SGTreport Yea $10 Publix coupon. The other grocery stores only giving flu shots for free @RicaPerrone Dar certo com o elenco do framengo é fácil. Quero ver o JJ comandando o Flu. Got my flu shot today.  Did my duty to public health. RT @ourtruecrimepod: Sorry everyone!  No new episode this week.  We will be back next week with a brand new episode. Make sure you have lis… RT @TrisResists: “trump cares about you like a flu virus does...he makes you ache and vomit and wish you were dead”! \\nAs always, thank you… RT @CrazyFrogg: I think im coming down with Swine Flu (H1N1) RT @AAnon55: Flu Vaccine:\\nThis short video shows you ingredients that are in Flu Shots &amp; the effects they have on our body.\\n\\nAsk yourself t… RT @detikfood: 5 Minuman Hangat Enak yang Cocok Dikonsumsi Saat Flu https://t.co/RcfnasLpvp @BrandenJMusic I’m on week 2 feeling like arse.  I got the flu shot last Monday.  It hit me Wednesday and hasn’t gotten any easier. RT @TrisResists: “trump cares about you like a flu virus does...he makes you ache and vomit and wish you were dead”! \\nAs always, thank you… RT @itswalela: If you are sick with a cold or flu or w.e. tf in public, for the love of fucking god - cover your damn mouth when coughing &amp;… RT @stopvaccinating: Have you gotten sick from the flu vaccine? https://t.co/Tkw9KzeDha anddddd i got the flu fuck me fr RT @TrisResists: “trump cares about you like a flu virus does...he makes you ache and vomit and wish you were dead”! \\nAs always, thank you… “A #cytokine storm is generally what leads to otherwise healthy young people dying of the #flu,” \\n #ANEawareness… https://t.co/r7crcELWYT RT @lionlible: Kepala pusing karena kebanyakan baca buku, ditambah flu akibat cuaca yang gak stabil, tapi dia cuma natap datar kelewat taja… RT @TrisResists: “trump cares about you like a flu virus does...he makes you ache and vomit and wish you were dead”! \\nAs always, thank you… RT @TrisResists: “trump cares about you like a flu virus does...he makes you ache and vomit and wish you were dead”! \\nAs always, thank you… @ge_flu podia explodir os dois RT @JAY_ZD2911: Did Burcu &amp; Caglar take their flu shots for this season!?😂💔\\n\\n#itirafediyorum #AfiliAşk #AyKer https://t.co/HYAN4bNRXy @EuclidesFla Isso é ridículo, Flu x Vasco não teve isso, estão terceirizando a responsabilidade deles de manter a segurança de um evento RT @TrisResists: “trump cares about you like a flu virus does...he makes you ache and vomit and wish you were dead”! \\nAs always, thank you… @TeamPulte I am thankful for cold/flu medicine 😷 @InterCronicas Michael na dupla de ataque com o Guerrero no esquema do Coudet ia ser lindo. Jefferson e Caio Henriq… https://t.co/w4d8DEy5SB RT @michaellasley: \"Three children have died in recent months at Border Patrol\\'s detention facilities because of influenza. Border Patrol o… RT @KelsieeHerzog: cute date idea: get flu shots together RT @freeag8: How to Motivate Busy Physicians to Give More Flu Shots 😷@HarvardBiz https://t.co/dfSq9Opmz0  #CEOs #entrepreneurs #startups #f… My poor little man has the flu RT @TrisResists: “trump cares about you like a flu virus does...he makes you ache and vomit and wish you were dead”! \\nAs always, thank you… RT @DrKND: #orpol #orleg. Who shoulders the risk?  Parents and kids.  MOUNT STERLING, Ky. (WKRC) - The vaccine you received for the flu, wh… @jessdoinmehoe i had the stomach flu earlier this year and it was sooooo bad RT @GDKJS95: Woke up with somekind of flu, massive headache and fever..... Such a terrible morning aksjxhsbwkaaaisjdbshsshsbspaaoajbsbshwis… Flu Shot Free and Easy Way to Save Lives\\n\\nIt takes five minutes, it’s free and it can save lives. And yet, two-thir… https://t.co/EAB28Vf1lz Reading about flu shots...hospitals for what reason are bullying patients into flu vaccines. As for hospital employ… https://t.co/hZfWl8Y9qc Can the Change in Temperature Really Make You Sick? #temperature https://t.co/4Qxu5KuOpM https://t.co/cm7WbdJPnX @anontrenton Have you gotten your flu shot? RT @TrisResists: “trump cares about you like a flu virus does...he makes you ache and vomit and wish you were dead”! \\nAs always, thank you… RT @DrKND: #orpol #orleg. Who shoulders the risk?  Parents and kids.  MOUNT STERLING, Ky. (WKRC) - The vaccine you received for the flu, wh… RT @DrKND: #orpol #orleg. Who shoulders the risk?  Parents and kids.  MOUNT STERLING, Ky. (WKRC) - The vaccine you received for the flu, wh… RT @OntPharmacists: Myth: \"I\\'m pregnant - I can\\'t get the flu shot.\"\\n\\nFact: The flu shot is safe for pregnant women.\\n\\nInfluenza immunizatio… RT @TrisResists: “trump cares about you like a flu virus does...he makes you ache and vomit and wish you were dead”! \\nAs always, thank you… @scruffbutt Flu shots. How to Motivate Busy Physicians to Give More Flu Shots 😷@HarvardBiz https://t.co/dfSq9Opmz0  #CEOs #entrepreneurs… https://t.co/SCWp68jEtW @GingerMermaid1 @stefsull @Portalpie112 @fontaine_keith @ladydownintexas @AndyOstroy @realDonaldTrump And you claim… https://t.co/lwJlvKgSsG RT @TrisResists: “trump cares about you like a flu virus does...he makes you ache and vomit and wish you were dead”! \\nAs always, thank you… RT @Julieattfield1: It’s a serious message, whilst a fab 50% of staff @NottsHealthcare have had their #flujab - 50% haven’t. flu is on the… RT @XicanitaBonita: So I’ve been rejecting the flu shot from my OBGYN and y’all... tell me why I have the worst sore throat EVER and can ha… @steeletalk @SChandraHerbert tweeted earlier today that most pharmacies have run out of flu vaccines You can get on… https://t.co/FfzGkPLjBs Why our director of nursing come to give us all our flu shots my ass hurry up and went to lunch 😂😂😂she’s gunna get my ass eventually RT @TrisResists: “trump cares about you like a flu virus does...he makes you ache and vomit and wish you were dead”! \\nAs always, thank you… RT @missteekay82: Currently...I smooth came down with the flu In the last 6hrs😷. I had a dick appointment tonight. I still my keep it tho..… RT @DrKND: #orpol #orleg. Who shoulders the risk?  Parents and kids.  MOUNT STERLING, Ky. (WKRC) - The vaccine you received for the flu, wh… RT @unhealthytruth: This is happening in Canada but receiving very little attention. Our thought are with this sweet girl\\'s family and espe… RT @DiabetesUKNI: Time for the flu jab! #KnowDiabetes https://t.co/jKrVNMWuhd No stream tonight. Feel like absolute crap getting over the flu symptoms I get from the shot. RT @mrLdavis: Olivia Benson is a bully. These girls be like I caught the flu and Olivia Benson be like RAPE KIT YOU NEED A RAPE KIT 2 weeks ago pani akong flu nga gusto mugawas sa akong lawas pero ma-delay kanunay kay busy pako di pa sya pwede mag gara2 😂 Get the flu shot they said \\nSo you don’t get the flu they said\\n\\n*gets flu shot Monday*\\n\\nConfirmed case of the flu Wednesday 😒😷😩 My sister steady complaining bout the air I told her she shoulda got the flu shot or sum 😂 @KymPMeyer Hi\\nGet flu shots\\nGet vaccinated\\nTake the entire run of your goddamn antibiotics as prescribed\\n\\nIf you\\'ve… https://t.co/L7v0Itb7iM Telur ayam negeri dari nilai kandungan gizi, serta teruji di laboratorium dinas kesehatan hewan, bebas dari virus f… https://t.co/hEXA8zwcPM @faislon_thiago Mas mas o foco claramente foi o flu cair hahahha Nigella Sativa for the flu, bronchitis and pneumonia: https://t.co/PF6qNvwIJs Immediately felt hot flashes post flu vaccination 🙄 1918 Flu and Lessons Learned: 1) disease does not need to be deadly to cause large numbers of deaths 2) importance… https://t.co/uOLwd7tP5j RT @TrisResists: “trump cares about you like a flu virus does...he makes you ache and vomit and wish you were dead”! \\nAs always, thank you… Flu está perto de fechar com empresa para gerir Bar dos Guerreiros\\n\\nhttps://t.co/YrQ1HszIA9 https://t.co/LMz0tz1q7P okay but me\\n“had the flu for 5 days now.. why?!?!\\nfeeling: wazzed 🙄” https://t.co/1Ys4WaGf2m Finally got my flu shot 😊 @DavidCornDC @mehdirhasan @realDonaldTrump @dfriedman33 Maddow Madness aka the Russian Flu resurfaces in Stone tria… https://t.co/Ha0GpqDOID Got a flu shot today and my arm is S O R E @tepanyakee I’ve had stomach flu since yesterday!!! 😭😭😭 Currently...I smooth came down with the flu In the last 6hrs😷. I had a dick appointment tonight. I still my keep it… https://t.co/lNiTBA982W RT @nrpena: Sorry @HiTechchic readers, I\\'ve been down w/ #Flu which I never recovered from wks ago. #WordToTheWise don\\'t push your body aft… RT @nrpena: Sorry @HiTechchic readers, I\\'ve been down w/ #Flu which I never recovered from wks ago. #WordToTheWise don\\'t push your body aft…'"
      ]
     },
     "execution_count": 7,
     "metadata": {},
     "output_type": "execute_result"
    }
   ],
   "source": [
    "corpus = ''\n",
    "for tweet in tweets['results']:\n",
    "    #corpus = #INSERT CODE HERE\n",
    "    corpus += ' ' + tweet['text']\n",
    "\n",
    "corpus"
   ]
  },
  {
   "cell_type": "markdown",
   "metadata": {},
   "source": [
    "## Exercise 11\n",
    "\n",
    "We are going to convert the tweets into text a few times so we can process the next from different searches. Since we don't want to repeat ourself, write a function below that takes the query JSON and returns the text from all the tweets."
   ]
  },
  {
   "cell_type": "code",
   "execution_count": 8,
   "metadata": {},
   "outputs": [],
   "source": [
    "def get_text_from_search(query_data):\n",
    "    '''INSERT CODE BELOW'''\n",
    "    # DEBUG\n",
    "    query_data = {\n",
    "    \"query\":query,\n",
    "    \"maxResults\": \"100\",\n",
    "    }\n",
    "    SAU = 'https://api.twitter.com/1.1/tweets/search/30day/development.json'\n",
    "    response = requests.post(SAU, auth=auth, json=query_data)\n",
    "    tweets = response.json()\n",
    "    corpus = ''\n",
    "    for tweet in tweets['results']:\n",
    "        #corpus = #INSERT CODE HERE\n",
    "        corpus += ' ' + tweet['text']\n",
    "    print('tweets', len(tweets['results']))\n",
    "    return corpus\n",
    "    # DEBUG"
   ]
  },
  {
   "cell_type": "markdown",
   "metadata": {},
   "source": [
    "# Word Cloud\n",
    "\n",
    "Now that we have some tweet results, we are going to collect all the text into one python string so we can make a word cloud\n",
    "\n",
    "There are few python libraries that convert text to a word cloud. This one allows us to specify any shape from https://fontawesome.com/ so we will use the twitter logo"
   ]
  },
  {
   "cell_type": "code",
   "execution_count": 9,
   "metadata": {
    "scrolled": true
   },
   "outputs": [
    {
     "data": {
      "image/png": "[encoded data removed]",
      "text/plain": [
       "<IPython.core.display.Image object>"
      ]
     },
     "execution_count": 9,
     "metadata": {},
     "output_type": "execute_result"
    }
   ],
   "source": [
    "import stylecloud\n",
    "from IPython.display import Image\n",
    "import os\n",
    "\n",
    "filename = 'wordcloud.png'\n",
    "\n",
    "stylecloud.gen_stylecloud(text=corpus, icon_name='fab fa-twitter', output_name=filename)\n",
    "Image(filename=filename)"
   ]
  },
  {
   "cell_type": "markdown",
   "metadata": {},
   "source": [
    "## Exercise 12\n",
    "\n",
    "Many times the sites we are interested in analyzing data from, do not have apis. Can you generate the word cloud using a more crude method? (Hint: One way is to copy and paste the text from twitter into a string and then pass that into the word cloud.)"
   ]
  },
  {
   "cell_type": "code",
   "execution_count": null,
   "metadata": {},
   "outputs": [],
   "source": [
    "# INSERT CODE HERE"
   ]
  },
  {
   "cell_type": "markdown",
   "metadata": {},
   "source": [
    "# Data Cleaning and Analysis\n",
    "\n",
    "Now we will do some cleaning to the text. We didn't have to before because the wordlcoud package did that for you. However, now since we are doing a more specific analysis, we will have to clean the data.\n",
    "\n",
    "## Exercise 12\n",
    "\n",
    "Convert the text we have collected into lowercase"
   ]
  },
  {
   "cell_type": "code",
   "execution_count": 15,
   "metadata": {},
   "outputs": [],
   "source": [
    "corpus_lower = corpus # replace with your CODE HERE"
   ]
  },
  {
   "cell_type": "markdown",
   "metadata": {},
   "source": [
    "We will replace newline characters with spaces and remove non alphabet characters."
   ]
  },
  {
   "cell_type": "code",
   "execution_count": null,
   "metadata": {
    "scrolled": true
   },
   "outputs": [],
   "source": [
    "import re\n",
    "corpus_no_chars = ' '.join(corpus_lower.splitlines())\n",
    "corpus_no_chars = re.sub(r'[^a-z ]', '', corpus_no_chars)\n",
    "corpus_no_chars"
   ]
  },
  {
   "cell_type": "markdown",
   "metadata": {},
   "source": [
    "## Bar Plot\n",
    "\n",
    "We will now make a bar plot of the word occurrances in the tweets, but first we need to create a function to count the word occurances.\n",
    "\n",
    "## Exercise 13\n",
    "\n",
    "Make a function that given the tweet text and a word, it cleans the text (using the code above) and counts the occurance of that word.\n",
    "\n",
    "Use `str.count` to count the words. For example `'hello world'.count('hello')` will return `1`."
   ]
  },
  {
   "cell_type": "code",
   "execution_count": null,
   "metadata": {},
   "outputs": [],
   "source": [
    "def clean_and_count(tweet_text, word):\n",
    "    # INSERT CODE HERE\n",
    "    tweet_text = tweet_text.lower() # DEBUG\n",
    "    tweet_text = re.sub(r'[^a-z ]', '', tweet_text) #DEBUG\n",
    "    return tweet_text.count(word)"
   ]
  },
  {
   "cell_type": "markdown",
   "metadata": {},
   "source": [
    "# Pandas\n",
    "\n",
    "Pandas is a powerful python package for reading csv files, storing csv files, and analyzing or changing the data in them.\n",
    "\n",
    "In addition from reading in a Dataframe from a csv file, we can also make our own using a dictionary like the following example."
   ]
  },
  {
   "cell_type": "code",
   "execution_count": 114,
   "metadata": {},
   "outputs": [
    {
     "data": {
      "text/html": [
       "<div>\n",
       "<style scoped>\n",
       "    .dataframe tbody tr th:only-of-type {\n",
       "        vertical-align: middle;\n",
       "    }\n",
       "\n",
       "    .dataframe tbody tr th {\n",
       "        vertical-align: top;\n",
       "    }\n",
       "\n",
       "    .dataframe thead th {\n",
       "        text-align: right;\n",
       "    }\n",
       "</style>\n",
       "<table border=\"1\" class=\"dataframe\">\n",
       "  <thead>\n",
       "    <tr style=\"text-align: right;\">\n",
       "      <th></th>\n",
       "      <th>place</th>\n",
       "      <th>trump</th>\n",
       "      <th>hilary</th>\n",
       "    </tr>\n",
       "  </thead>\n",
       "  <tbody>\n",
       "    <tr>\n",
       "      <td>0</td>\n",
       "      <td>chicago</td>\n",
       "      <td>3</td>\n",
       "      <td>5</td>\n",
       "    </tr>\n",
       "    <tr>\n",
       "      <td>1</td>\n",
       "      <td>detoit</td>\n",
       "      <td>4</td>\n",
       "      <td>3</td>\n",
       "    </tr>\n",
       "  </tbody>\n",
       "</table>\n",
       "</div>"
      ],
      "text/plain": [
       "     place  trump  hilary\n",
       "0  chicago      3       5\n",
       "1   detoit      4       3"
      ]
     },
     "execution_count": 114,
     "metadata": {},
     "output_type": "execute_result"
    }
   ],
   "source": [
    "import pandas\n",
    "\n",
    "data = {'place':['chicago', 'detoit'], 'trump':[3,4], 'hilary':[5,3]}\n",
    "df = pd.DataFrame(data)\n",
    "df"
   ]
  },
  {
   "cell_type": "markdown",
   "metadata": {},
   "source": [
    "## Exercise 14\n",
    "\n",
    "Play around with the pandas syntax, look at this guide https://jalammar.github.io/gentle-visual-intro-to-data-analysis-python-pandas/\n",
    "\n",
    "How do you print only the `place` column? How do you save it and read from csv?"
   ]
  },
  {
   "cell_type": "code",
   "execution_count": 115,
   "metadata": {},
   "outputs": [],
   "source": [
    "# INSERT CODE HERE"
   ]
  },
  {
   "cell_type": "markdown",
   "metadata": {},
   "source": [
    "## Exercise 15\n",
    "\n",
    "Construct a dict to create a pandas dataframe similar to the example above. Use `clean_and_count` and fill the code below. Don't forget to fill out the place as well."
   ]
  },
  {
   "cell_type": "code",
   "execution_count": 88,
   "metadata": {
    "scrolled": true
   },
   "outputs": [],
   "source": [
    "data = {}\n",
    "places = ['chicago', 'texas', 'alabama', 'california']\n",
    "for place in places:\n",
    "    tweet_text = get_text_from_search('impeachment place:' + place)\n",
    "    words = ['trump', 'barr', 'stone', 'schiff', 'clinton', 'obama']\n",
    "    \n",
    "    # Initialize the dictionary of lists \n",
    "    for word in words:\n",
    "        data[word] = []\n",
    "    \n",
    "    for word in words:\n",
    "\n",
    "        # INSERT CODE HERE\n",
    "        \n",
    "\n",
    "df = pd.DataFrame(data)\n"
   ]
  },
  {
   "cell_type": "markdown",
   "metadata": {},
   "source": [
    "# Plotting\n",
    "\n",
    "Now we are ready to plot!"
   ]
  },
  {
   "cell_type": "code",
   "execution_count": 102,
   "metadata": {},
   "outputs": [
    {
     "data": {
      "text/plain": [
       "<matplotlib.axes._subplots.AxesSubplot at 0x7fecf129f780>"
      ]
     },
     "execution_count": 102,
     "metadata": {},
     "output_type": "execute_result"
    },
    {
     "data": {
      "image/png": "[encoded data removed]",
      "text/plain": [
       "<Figure size 432x288 with 1 Axes>"
      ]
     },
     "metadata": {
      "needs_background": "light"
     },
     "output_type": "display_data"
    }
   ],
   "source": [
    "df.plot(kind='bar',x='place',y=words)"
   ]
  },
  {
   "cell_type": "markdown",
   "metadata": {},
   "source": [
    "# Exercise 16: Occurances of All Words Dataframe\n",
    "\n",
    "Using what we've learned so far, make a `pandas` dataframe with two columns. One a list of all the words and the second one how many that word appears. What `pandas` command will give you the top 5 words?"
   ]
  },
  {
   "cell_type": "code",
   "execution_count": null,
   "metadata": {},
   "outputs": [],
   "source": []
  }
 ],
 "metadata": {
  "kernelspec": {
   "display_name": "Python 3",
   "language": "python",
   "name": "python3"
  },
  "language_info": {
   "codemirror_mode": {
    "name": "ipython",
    "version": 3
   },
   "file_extension": ".py",
   "mimetype": "text/x-python",
   "name": "python",
   "nbconvert_exporter": "python",
   "pygments_lexer": "ipython3",
   "version": "3.7.3"
  }
 },
 "nbformat": 4,
 "nbformat_minor": 2
}
