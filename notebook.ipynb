{
 "cells": [
  {
   "cell_type": "markdown",
   "metadata": {},
   "source": [
    "# Python Review\n",
    "\n",
    "## Data structures\n",
    "\n",
    "- **List** An ordered set of elements\n",
    "- **Dictionary** An unordered key / value store. Each value can be accessed indexing into the key, e.g. `python_dict['a']`"
   ]
  },
  {
   "cell_type": "code",
   "execution_count": null,
   "metadata": {},
   "outputs": [],
   "source": [
    "# EXERCISE (google how to do it if you are stuck)\n",
    "\n",
    "python_list = [1,2,3,7]\n",
    "python_dict = {'a':3, 'd':5}\n",
    "\n",
    "# Print each number in list\n",
    "# INSERT CODE HERE\n",
    "\n",
    "# Print each value in the dictionary\n",
    "# INSERT CODE HERE"
   ]
  },
  {
   "cell_type": "markdown",
   "metadata": {},
   "source": [
    "## JSON\n",
    "\n",
    "A way to store data (lists, dictionaries, etc) in a string or file format. An example and exercise is below"
   ]
  },
  {
   "cell_type": "code",
   "execution_count": null,
   "metadata": {},
   "outputs": [],
   "source": [
    "import json\n",
    "\n",
    "json_example = '''{\n",
    "    \"created_at\": \"Wed Nov 06 23:58:55 +0000 2019\",\n",
    "    \"text\": \"Kleenex® Brand Underscores Importance of #Skin Care This Cold &amp; Flu Season  #skincare #beautytips  https://t.co/PWqB6MmQVw\",\n",
    "    \"is_quote_status\": false,\n",
    "    \"quote_count\": 0,\n",
    "    \"reply_count\": 0,\n",
    "    \"retweet_count\": 0,\n",
    "    \"favorite_count\": 5,\n",
    "    \"entities\": {\n",
    "        \"hashtags\": [\n",
    "            {\n",
    "                \"text\": \"Skin\",\n",
    "                \"indices\": [41,46]\n",
    "            },\n",
    "            {\n",
    "                \"text\": \"skincare\",\n",
    "                \"indices\": [80,89]\n",
    "            },\n",
    "            {\n",
    "                \"text\": \"beautytips\",\n",
    "                \"indices\": [90,101]\n",
    "            }\n",
    "        ]\n",
    "    },\n",
    "    \"favorited\": false,\n",
    "    \"retweeted\": false\n",
    "}\n",
    "'''"
   ]
  },
  {
   "cell_type": "code",
   "execution_count": null,
   "metadata": {},
   "outputs": [],
   "source": [
    "# EXERCISE (use google if you are stuck)\n",
    "\n",
    "# Load the JSON example above (don't forget to run the cell) using\n",
    "# the json.loads function\n",
    "# INSERT CODE HERE\n",
    "\n",
    "# Print how many times the tweet was retweeted (\"retweet_count\")\n",
    "# INSERT CODE HERE\n",
    "\n",
    "# Print the hashtags in the tweet\n",
    "# INSERT CODE HERE"
   ]
  },
  {
   "cell_type": "markdown",
   "metadata": {},
   "source": [
    "## Saving and Loading JSON to a file\n",
    "\n",
    "Many times it's not convenient to keep on hitting a URL for a JSON, maybe the it's too slow or there is a limit on how many times a user can access it. In these case it's best to save it to a file and read it."
   ]
  },
  {
   "cell_type": "code",
   "execution_count": null,
   "metadata": {},
   "outputs": [],
   "source": [
    "# EXERCISE (use google if you are stuck)\n",
    "\n",
    "# Save the JSON to a file named 'example.json'\n",
    "# INSERT CODE HERE\n",
    "\n",
    "# Load the JSON from file (using json.load)\n",
    "# INSERT CODE HERE"
   ]
  },
  {
   "cell_type": "markdown",
   "metadata": {},
   "source": [
    "# Acessing the Twitter API\n",
    "\n",
    "## Package Requirements\n",
    "\n",
    "We need to install the following packages into your Python environment"
   ]
  },
  {
   "cell_type": "markdown",
   "metadata": {},
   "source": [
    "```\n",
    "requests\n",
    "requests_oauthlib\n",
    "pandas\n",
    "```\n"
   ]
  },
  {
   "cell_type": "markdown",
   "metadata": {},
   "source": [
    "## What is an API?\n",
    "\n",
    "An API (Application Programmer Interface) is a way a website/app allows a user to programmatically access data\n",
    "\n",
    "## Other ways of accessing data\n",
    "\n",
    "1. Copy and paste data into a spreadsheet (or plain text file) and read with Python package `csv` or `pandas` (or if it's a text file loop through the lines) \n",
    "\n",
    "1. Scrape/parse the HTML with Python package *Beautiful Soup* (or equivalent)\n",
    "\n",
    "## API vs. Other Methods\n",
    "\n",
    "Typically an API is more organized and the way the app wants you to access it's data. However many websites or apps don't have them or they are too poorly designed. In those cases, it's better to use a more crude approach"
   ]
  },
  {
   "cell_type": "markdown",
   "metadata": {},
   "source": [
    "## API Authentication\n",
    "\n",
    "We need to get the tokens from the twitter dev website, there are some steps involved and some forms to fill out.\n",
    "\n",
    "1. Go to https://developer.twitter.com/en/apply/user.html\n",
    "\n",
    "1. Login to your Twitter account or create a new user\n",
    "\n",
    "1. Fill out the forms and select you are applying for educational use. It doesn't really matter what you write down as long as you meet the word length\n",
    "\n",
    "1. Click on your to your name at the top right corner, next to *Dashboard* (not *Dashboard* but next to it) and select *Apps*, then click on *Keys and Tokens*\n",
    "\n",
    "1. Write down the four keys below"
   ]
  },
  {
   "cell_type": "code",
   "execution_count": null,
   "metadata": {},
   "outputs": [],
   "source": [
    "API_KEY = ''\n",
    "API_SECRET = ''\n",
    "ACCESS_TOKEN = ''\n",
    "ACCESS_TOKEN_SECRET = ''\n"
   ]
  },
  {
   "cell_type": "markdown",
   "metadata": {},
   "source": [
    "Now go here to create a new dev environment https://developer.twitter.com/en/account/environments and select *Full Archive* (Search API). Write down the name of your environment below"
   ]
  },
  {
   "cell_type": "code",
   "execution_count": null,
   "metadata": {},
   "outputs": [],
   "source": [
    "DEV_ENVIRONMENT_NAME = ''"
   ]
  },
  {
   "cell_type": "markdown",
   "metadata": {},
   "source": [
    "Now we are ready to use requests"
   ]
  },
  {
   "cell_type": "code",
   "execution_count": null,
   "metadata": {},
   "outputs": [],
   "source": [
    "import requests\n",
    "from requests_oauthlib import OAuth1\n",
    "\n",
    "SEARCH_API_URL = 'https://api.twitter.com/1.1/tweets/search/fullarchive/{}.json'.format(DEV_ENVIRONMENT_NAME)\n",
    "\n",
    "# Authentication uses OAuth1 as referenced in Twitter documentation\n",
    "auth = OAuth1(API_KEY, API_SECRET, ACCESS_TOKEN, ACCESS_TOKEN_SECRET)\n",
    "\n"
   ]
  },
  {
   "cell_type": "code",
   "execution_count": null,
   "metadata": {},
   "outputs": [],
   "source": [
    "query = {\n",
    "    \"query\":\"flu\",\n",
    "    \"maxResults\": \"100\",\n",
    "    \"fromDate\":\"201911010000\", \n",
    "    \"toDate\":\"201911062359\"\n",
    "}\n",
    "\n",
    "response = requests.post(SEARCH_API_URL, auth=auth, json=query).json()\n",
    "\n",
    "# The first result in the\n",
    "response['results'][0]"
   ]
  },
  {
   "cell_type": "code",
   "execution_count": null,
   "metadata": {},
   "outputs": [],
   "source": []
  }
 ],
 "metadata": {
  "kernelspec": {
   "display_name": "Python 3",
   "language": "python",
   "name": "python3"
  },
  "language_info": {
   "codemirror_mode": {
    "name": "ipython",
    "version": 3
   },
   "file_extension": ".py",
   "mimetype": "text/x-python",
   "name": "python",
   "nbconvert_exporter": "python",
   "pygments_lexer": "ipython3",
   "version": "3.7.3"
  }
 },
 "nbformat": 4,
 "nbformat_minor": 2
}
